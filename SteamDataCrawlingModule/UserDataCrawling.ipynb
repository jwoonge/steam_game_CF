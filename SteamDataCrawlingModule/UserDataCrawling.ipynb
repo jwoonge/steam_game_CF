{
  "nbformat": 4,
  "nbformat_minor": 0,
  "metadata": {
    "colab": {
      "name": "UserDataCrawling.ipynb",
      "provenance": [],
      "collapsed_sections": [],
      "authorship_tag": "ABX9TyMV15D6juJXFzyhmfay15B4",
      "include_colab_link": true
    },
    "kernelspec": {
      "name": "python3",
      "display_name": "Python 3"
    }
  },
  "cells": [
    {
      "cell_type": "markdown",
      "metadata": {
        "id": "view-in-github",
        "colab_type": "text"
      },
      "source": [
        "<a href=\"https://colab.research.google.com/github/jwoonge/steam_game_CF/blob/main/SteamDataCrawlingModule/UserDataCrawling.ipynb\" target=\"_parent\"><img src=\"https://colab.research.google.com/assets/colab-badge.svg\" alt=\"Open In Colab\"/></a>"
      ]
    },
    {
      "cell_type": "markdown",
      "metadata": {
        "id": "4Ez9LrPji9KD"
      },
      "source": [
        "# Define Arguments"
      ]
    },
    {
      "cell_type": "code",
      "metadata": {
        "id": "VLNsG5EJi3Sf"
      },
      "source": [
        "key = '33C798A71E856B20EC314196A31C6AB6'\r\n",
        "file_no = 0\r\n",
        "base_url = 'https://steamcommunity.com/profiles/'\r\n",
        "drive_dir = '/content/gdrive/My Drive/BigData/results/'\r\n",
        "src_dir = drive_dir + 'validusers/'\r\n",
        "dst_dir = drive_dir + 'userdata/'"
      ],
      "execution_count": 6,
      "outputs": []
    },
    {
      "cell_type": "markdown",
      "metadata": {
        "id": "8bU-1ZdYjBha"
      },
      "source": [
        "# Import Libraries"
      ]
    },
    {
      "cell_type": "code",
      "metadata": {
        "id": "_krOJINKjDt3"
      },
      "source": [
        "!pip install Selenium\r\n",
        "!apt-get update\r\n",
        "!apt install chromium-chromedriver"
      ],
      "execution_count": null,
      "outputs": []
    },
    {
      "cell_type": "code",
      "metadata": {
        "colab": {
          "base_uri": "https://localhost:8080/"
        },
        "id": "7bTC76EojZrS",
        "outputId": "e9c2c208-6c39-446b-9548-55615628b3ef"
      },
      "source": [
        "from selenium import webdriver\r\n",
        "from selenium.webdriver.support.ui import WebDriverWait\r\n",
        "from selenium.webdriver.support import expected_conditions as EC\r\n",
        "from selenium.webdriver.common.by import By\r\n",
        "from bs4 import BeautifulSoup\r\n",
        "from google.colab import drive\r\n",
        "import requests\r\n",
        "import time\r\n",
        "import os\r\n",
        "drive.mount('/content/gdrive')\r\n",
        "if not(os.path.isdir(drive_dir)):\r\n",
        "    os.makedirs(os.path.join(drive_dir))\r\n",
        "if not(os.path.isdir(drive_dir+dst_dir)):\r\n",
        "    os.makedirs(os.path.join(drive_dir+dst_dir))"
      ],
      "execution_count": 7,
      "outputs": [
        {
          "output_type": "stream",
          "text": [
            "Drive already mounted at /content/gdrive; to attempt to forcibly remount, call drive.mount(\"/content/gdrive\", force_remount=True).\n"
          ],
          "name": "stdout"
        }
      ]
    },
    {
      "cell_type": "code",
      "metadata": {
        "id": "OFZckSzfjw46"
      },
      "source": [
        "def get_user_game_data(user_id):\r\n",
        "    url = 'http://api.steampowered.com/IPlayerService/GetOwnedGames/v0001/?key='+key\r\n",
        "    url += '&steamid='+user_id\r\n",
        "    url += '&include_appinfo=true'\r\n",
        "    url += '&include_played_free_games=true'\r\n",
        "    url += '&format=json'\r\n",
        "    try :\r\n",
        "        json = requests.get(url).json()\r\n",
        "        if 'response' in json and not len(json['response'].keys())==0: #valid user\r\n",
        "            try:\r\n",
        "                games = json['response']['games']\r\n",
        "                userdata = []\r\n",
        "                for game in games:\r\n",
        "                    game_id = game['appid']\r\n",
        "                    game_name = game['name']\r\n",
        "                    game_playtime = game['playtime_forever']\r\n",
        "                    userdata.append([game_id, game_name, game_playtime])\r\n",
        "                \r\n",
        "                userdata.sort(key=lambda x:x[2], reverse=True)\r\n",
        "                return userdata, True\r\n",
        "            except:\r\n",
        "                print(json)\r\n",
        "                return [], False\r\n",
        "        else:\r\n",
        "            print(json)\r\n",
        "            return [], False\r\n",
        "    except:\r\n",
        "        print('API ERROR')\r\n",
        "        return [], False\r\n",
        "\r\n",
        "def get_user_review_data(user_id, driver):\r\n",
        "    review_url = base_url + user_id + '/reviews'\r\n",
        "    driver.get(review_url)\r\n",
        "    driver.implicitly_wait(3)\r\n",
        "    html = driver.page_source\r\n",
        "    soup = BeautifulSoup(html, 'html.parser')\r\n",
        "    review_list = soup.select('.review_box_content')\r\n",
        "    user_review_data = []\r\n",
        "    for i in range(len(review_list)):\r\n",
        "        game_id = (review_list[i].select('.leftcol')[0].select('a')[0]['href'].split('/')[-1])\r\n",
        "        recommend = review_list[i].select('.rightcol')[0].select('.title')[0].text\r\n",
        "        user_review_data.append([game_id, recommend])\r\n",
        "    return user_review_data\r\n",
        "\r\n",
        "def write_user_data_file(game_data, review_data, user_id):\r\n",
        "    f = open(dst_dir + user_id + '.txt','w', encoding='utf-8')\r\n",
        "    write_string = '@@GAME\\n'\r\n",
        "    for game_id, game_name, game_playtime in game_data:\r\n",
        "        write_string += str(game_id )+ '##' + game_name + '##' + str(game_playtime) + '\\n'\r\n",
        "    write_string += '@@REVIEW\\n'\r\n",
        "    for game_id, recommend in review_data:\r\n",
        "        write_string += game_id + '##' + recommend + '\\n'\r\n",
        "    f.write(write_string)\r\n",
        "    f.close()\r\n",
        "    #!cat /\r\n",
        "    "
      ],
      "execution_count": 10,
      "outputs": []
    },
    {
      "cell_type": "code",
      "metadata": {
        "id": "b8WIb0qvj43a"
      },
      "source": [
        "options = webdriver.ChromeOptions()\r\n",
        "options.add_argument('--headless')\r\n",
        "options.add_argument('--no-sandbox')\r\n",
        "options.add_argument('--disable-dev-shm-usage')\r\n",
        "options.add_argument(\"--disable-gpu\")\r\n",
        "driver = webdriver.Chrome('chromedriver', chrome_options=options)\r\n",
        "driver.implicitly_wait(3)\r\n",
        "\r\n",
        "collected_data = 0; row_index = 0\r\n",
        "valid_user_list = open(src_dir+'user_list_'+str(file_no)+'.txt', 'r', encoding='utf-8')\r\n",
        "for row in valid_user_list:\r\n",
        "    user_id = row[:-1]\r\n",
        "    user_game_data, valid = get_user_game_data(user_id)\r\n",
        "    time.sleep(20)\r\n",
        "    if valid:\r\n",
        "        collected_data += 1\r\n",
        "        user_review_data = get_user_review_data(user_id, driver)\r\n",
        "        time.sleep(20)\r\n",
        "        write_user_data_file(user_game_data, user_review_data, user_id)\r\n",
        "    row_index += 1\r\n",
        "    print(row_index, user_id,'processed')"
      ],
      "execution_count": null,
      "outputs": []
    }
  ]
}