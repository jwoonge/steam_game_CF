{
  "nbformat": 4,
  "nbformat_minor": 0,
  "metadata": {
    "colab": {
      "name": "FindValidUser.ipynb",
      "provenance": [],
      "authorship_tag": "ABX9TyP+cyzO51P2iXP9FATwlA3P",
      "include_colab_link": true
    },
    "kernelspec": {
      "name": "python3",
      "display_name": "Python 3"
    }
  },
  "cells": [
    {
      "cell_type": "markdown",
      "metadata": {
        "id": "view-in-github",
        "colab_type": "text"
      },
      "source": [
        "<a href=\"https://colab.research.google.com/github/jwoonge/steam_game_CF/blob/main/SteamDataCrawlingModule/FindValidUser.ipynb\" target=\"_parent\"><img src=\"https://colab.research.google.com/assets/colab-badge.svg\" alt=\"Open In Colab\"/></a>"
      ]
    },
    {
      "cell_type": "markdown",
      "metadata": {
        "id": "gadfyJMT2bQl"
      },
      "source": [
        "# Import Libraries"
      ]
    },
    {
      "cell_type": "code",
      "metadata": {
        "colab": {
          "base_uri": "https://localhost:8080/"
        },
        "id": "VAd2GlhD2af2",
        "outputId": "0c5f5476-d7cc-4b3b-ea12-a9c9343af7c2"
      },
      "source": [
        "!pip install Selenium\r\n",
        "!apt-get update\r\n",
        "!apt install chromium-chromedriver\r\n",
        "\r\n"
      ],
      "execution_count": 1,
      "outputs": [
        {
          "output_type": "stream",
          "text": [
            "Collecting Selenium\n",
            "\u001b[?25l  Downloading https://files.pythonhosted.org/packages/80/d6/4294f0b4bce4de0abf13e17190289f9d0613b0a44e5dd6a7f5ca98459853/selenium-3.141.0-py2.py3-none-any.whl (904kB)\n",
            "\r\u001b[K     |▍                               | 10kB 18.3MB/s eta 0:00:01\r\u001b[K     |▊                               | 20kB 10.2MB/s eta 0:00:01\r\u001b[K     |█                               | 30kB 8.1MB/s eta 0:00:01\r\u001b[K     |█▌                              | 40kB 7.3MB/s eta 0:00:01\r\u001b[K     |█▉                              | 51kB 4.5MB/s eta 0:00:01\r\u001b[K     |██▏                             | 61kB 4.5MB/s eta 0:00:01\r\u001b[K     |██▌                             | 71kB 5.0MB/s eta 0:00:01\r\u001b[K     |███                             | 81kB 5.1MB/s eta 0:00:01\r\u001b[K     |███▎                            | 92kB 5.2MB/s eta 0:00:01\r\u001b[K     |███▋                            | 102kB 5.4MB/s eta 0:00:01\r\u001b[K     |████                            | 112kB 5.4MB/s eta 0:00:01\r\u001b[K     |████▍                           | 122kB 5.4MB/s eta 0:00:01\r\u001b[K     |████▊                           | 133kB 5.4MB/s eta 0:00:01\r\u001b[K     |█████                           | 143kB 5.4MB/s eta 0:00:01\r\u001b[K     |█████▍                          | 153kB 5.4MB/s eta 0:00:01\r\u001b[K     |█████▉                          | 163kB 5.4MB/s eta 0:00:01\r\u001b[K     |██████▏                         | 174kB 5.4MB/s eta 0:00:01\r\u001b[K     |██████▌                         | 184kB 5.4MB/s eta 0:00:01\r\u001b[K     |██████▉                         | 194kB 5.4MB/s eta 0:00:01\r\u001b[K     |███████▎                        | 204kB 5.4MB/s eta 0:00:01\r\u001b[K     |███████▋                        | 215kB 5.4MB/s eta 0:00:01\r\u001b[K     |████████                        | 225kB 5.4MB/s eta 0:00:01\r\u001b[K     |████████▎                       | 235kB 5.4MB/s eta 0:00:01\r\u001b[K     |████████▊                       | 245kB 5.4MB/s eta 0:00:01\r\u001b[K     |█████████                       | 256kB 5.4MB/s eta 0:00:01\r\u001b[K     |█████████▍                      | 266kB 5.4MB/s eta 0:00:01\r\u001b[K     |█████████▉                      | 276kB 5.4MB/s eta 0:00:01\r\u001b[K     |██████████▏                     | 286kB 5.4MB/s eta 0:00:01\r\u001b[K     |██████████▌                     | 296kB 5.4MB/s eta 0:00:01\r\u001b[K     |██████████▉                     | 307kB 5.4MB/s eta 0:00:01\r\u001b[K     |███████████▎                    | 317kB 5.4MB/s eta 0:00:01\r\u001b[K     |███████████▋                    | 327kB 5.4MB/s eta 0:00:01\r\u001b[K     |████████████                    | 337kB 5.4MB/s eta 0:00:01\r\u001b[K     |████████████▎                   | 348kB 5.4MB/s eta 0:00:01\r\u001b[K     |████████████▊                   | 358kB 5.4MB/s eta 0:00:01\r\u001b[K     |█████████████                   | 368kB 5.4MB/s eta 0:00:01\r\u001b[K     |█████████████▍                  | 378kB 5.4MB/s eta 0:00:01\r\u001b[K     |█████████████▊                  | 389kB 5.4MB/s eta 0:00:01\r\u001b[K     |██████████████▏                 | 399kB 5.4MB/s eta 0:00:01\r\u001b[K     |██████████████▌                 | 409kB 5.4MB/s eta 0:00:01\r\u001b[K     |██████████████▉                 | 419kB 5.4MB/s eta 0:00:01\r\u001b[K     |███████████████▏                | 430kB 5.4MB/s eta 0:00:01\r\u001b[K     |███████████████▋                | 440kB 5.4MB/s eta 0:00:01\r\u001b[K     |████████████████                | 450kB 5.4MB/s eta 0:00:01\r\u001b[K     |████████████████▎               | 460kB 5.4MB/s eta 0:00:01\r\u001b[K     |████████████████▋               | 471kB 5.4MB/s eta 0:00:01\r\u001b[K     |█████████████████               | 481kB 5.4MB/s eta 0:00:01\r\u001b[K     |█████████████████▍              | 491kB 5.4MB/s eta 0:00:01\r\u001b[K     |█████████████████▊              | 501kB 5.4MB/s eta 0:00:01\r\u001b[K     |██████████████████▏             | 512kB 5.4MB/s eta 0:00:01\r\u001b[K     |██████████████████▌             | 522kB 5.4MB/s eta 0:00:01\r\u001b[K     |██████████████████▉             | 532kB 5.4MB/s eta 0:00:01\r\u001b[K     |███████████████████▏            | 542kB 5.4MB/s eta 0:00:01\r\u001b[K     |███████████████████▋            | 552kB 5.4MB/s eta 0:00:01\r\u001b[K     |████████████████████            | 563kB 5.4MB/s eta 0:00:01\r\u001b[K     |████████████████████▎           | 573kB 5.4MB/s eta 0:00:01\r\u001b[K     |████████████████████▋           | 583kB 5.4MB/s eta 0:00:01\r\u001b[K     |█████████████████████           | 593kB 5.4MB/s eta 0:00:01\r\u001b[K     |█████████████████████▍          | 604kB 5.4MB/s eta 0:00:01\r\u001b[K     |█████████████████████▊          | 614kB 5.4MB/s eta 0:00:01\r\u001b[K     |██████████████████████          | 624kB 5.4MB/s eta 0:00:01\r\u001b[K     |██████████████████████▌         | 634kB 5.4MB/s eta 0:00:01\r\u001b[K     |██████████████████████▉         | 645kB 5.4MB/s eta 0:00:01\r\u001b[K     |███████████████████████▏        | 655kB 5.4MB/s eta 0:00:01\r\u001b[K     |███████████████████████▌        | 665kB 5.4MB/s eta 0:00:01\r\u001b[K     |████████████████████████        | 675kB 5.4MB/s eta 0:00:01\r\u001b[K     |████████████████████████▎       | 686kB 5.4MB/s eta 0:00:01\r\u001b[K     |████████████████████████▋       | 696kB 5.4MB/s eta 0:00:01\r\u001b[K     |█████████████████████████       | 706kB 5.4MB/s eta 0:00:01\r\u001b[K     |█████████████████████████▍      | 716kB 5.4MB/s eta 0:00:01\r\u001b[K     |█████████████████████████▊      | 727kB 5.4MB/s eta 0:00:01\r\u001b[K     |██████████████████████████      | 737kB 5.4MB/s eta 0:00:01\r\u001b[K     |██████████████████████████▍     | 747kB 5.4MB/s eta 0:00:01\r\u001b[K     |██████████████████████████▉     | 757kB 5.4MB/s eta 0:00:01\r\u001b[K     |███████████████████████████▏    | 768kB 5.4MB/s eta 0:00:01\r\u001b[K     |███████████████████████████▌    | 778kB 5.4MB/s eta 0:00:01\r\u001b[K     |████████████████████████████    | 788kB 5.4MB/s eta 0:00:01\r\u001b[K     |████████████████████████████▎   | 798kB 5.4MB/s eta 0:00:01\r\u001b[K     |████████████████████████████▋   | 808kB 5.4MB/s eta 0:00:01\r\u001b[K     |█████████████████████████████   | 819kB 5.4MB/s eta 0:00:01\r\u001b[K     |█████████████████████████████▍  | 829kB 5.4MB/s eta 0:00:01\r\u001b[K     |█████████████████████████████▊  | 839kB 5.4MB/s eta 0:00:01\r\u001b[K     |██████████████████████████████  | 849kB 5.4MB/s eta 0:00:01\r\u001b[K     |██████████████████████████████▍ | 860kB 5.4MB/s eta 0:00:01\r\u001b[K     |██████████████████████████████▉ | 870kB 5.4MB/s eta 0:00:01\r\u001b[K     |███████████████████████████████▏| 880kB 5.4MB/s eta 0:00:01\r\u001b[K     |███████████████████████████████▌| 890kB 5.4MB/s eta 0:00:01\r\u001b[K     |███████████████████████████████▉| 901kB 5.4MB/s eta 0:00:01\r\u001b[K     |████████████████████████████████| 911kB 5.4MB/s \n",
            "\u001b[?25hRequirement already satisfied: urllib3 in /usr/local/lib/python3.6/dist-packages (from Selenium) (1.24.3)\n",
            "Installing collected packages: Selenium\n",
            "Successfully installed Selenium-3.141.0\n",
            "Ign:1 https://developer.download.nvidia.com/compute/cuda/repos/ubuntu1804/x86_64  InRelease\n",
            "Get:2 https://cloud.r-project.org/bin/linux/ubuntu bionic-cran40/ InRelease [3,626 B]\n",
            "Get:3 http://security.ubuntu.com/ubuntu bionic-security InRelease [88.7 kB]\n",
            "Ign:4 https://developer.download.nvidia.com/compute/machine-learning/repos/ubuntu1804/x86_64  InRelease\n",
            "Hit:5 https://developer.download.nvidia.com/compute/cuda/repos/ubuntu1804/x86_64  Release\n",
            "Get:6 http://ppa.launchpad.net/c2d4u.team/c2d4u4.0+/ubuntu bionic InRelease [15.9 kB]\n",
            "Hit:7 https://developer.download.nvidia.com/compute/machine-learning/repos/ubuntu1804/x86_64  Release\n",
            "Hit:8 http://archive.ubuntu.com/ubuntu bionic InRelease\n",
            "Get:9 http://archive.ubuntu.com/ubuntu bionic-updates InRelease [88.7 kB]\n",
            "Get:10 http://ppa.launchpad.net/graphics-drivers/ppa/ubuntu bionic InRelease [21.3 kB]\n",
            "Get:12 http://archive.ubuntu.com/ubuntu bionic-backports InRelease [74.6 kB]\n",
            "Get:14 http://ppa.launchpad.net/c2d4u.team/c2d4u4.0+/ubuntu bionic/main Sources [1,696 kB]\n",
            "Get:15 http://security.ubuntu.com/ubuntu bionic-security/universe amd64 Packages [1,368 kB]\n",
            "Get:16 http://archive.ubuntu.com/ubuntu bionic-updates/multiverse amd64 Packages [54.3 kB]\n",
            "Get:17 http://archive.ubuntu.com/ubuntu bionic-updates/main amd64 Packages [2,211 kB]\n",
            "Get:18 http://security.ubuntu.com/ubuntu bionic-security/main amd64 Packages [1,783 kB]\n",
            "Get:19 http://security.ubuntu.com/ubuntu bionic-security/restricted amd64 Packages [223 kB]\n",
            "Get:20 http://security.ubuntu.com/ubuntu bionic-security/multiverse amd64 Packages [15.8 kB]\n",
            "Get:21 http://ppa.launchpad.net/c2d4u.team/c2d4u4.0+/ubuntu bionic/main amd64 Packages [868 kB]\n",
            "Get:22 http://archive.ubuntu.com/ubuntu bionic-updates/universe amd64 Packages [2,132 kB]\n",
            "Get:23 http://archive.ubuntu.com/ubuntu bionic-updates/restricted amd64 Packages [253 kB]\n",
            "Get:24 http://ppa.launchpad.net/graphics-drivers/ppa/ubuntu bionic/main amd64 Packages [46.5 kB]\n",
            "Fetched 10.9 MB in 3s (3,609 kB/s)\n",
            "Reading package lists... Done\n",
            "Reading package lists... Done\n",
            "Building dependency tree       \n",
            "Reading state information... Done\n",
            "The following additional packages will be installed:\n",
            "  chromium-browser chromium-browser-l10n chromium-codecs-ffmpeg-extra\n",
            "Suggested packages:\n",
            "  webaccounts-chromium-extension unity-chromium-extension adobe-flashplugin\n",
            "The following NEW packages will be installed:\n",
            "  chromium-browser chromium-browser-l10n chromium-chromedriver\n",
            "  chromium-codecs-ffmpeg-extra\n",
            "0 upgraded, 4 newly installed, 0 to remove and 30 not upgraded.\n",
            "Need to get 81.0 MB of archives.\n",
            "After this operation, 273 MB of additional disk space will be used.\n",
            "Get:1 http://archive.ubuntu.com/ubuntu bionic-updates/universe amd64 chromium-codecs-ffmpeg-extra amd64 87.0.4280.66-0ubuntu0.18.04.1 [1,122 kB]\n",
            "Get:2 http://archive.ubuntu.com/ubuntu bionic-updates/universe amd64 chromium-browser amd64 87.0.4280.66-0ubuntu0.18.04.1 [71.7 MB]\n",
            "Get:3 http://archive.ubuntu.com/ubuntu bionic-updates/universe amd64 chromium-browser-l10n all 87.0.4280.66-0ubuntu0.18.04.1 [3,716 kB]\n",
            "Get:4 http://archive.ubuntu.com/ubuntu bionic-updates/universe amd64 chromium-chromedriver amd64 87.0.4280.66-0ubuntu0.18.04.1 [4,488 kB]\n",
            "Fetched 81.0 MB in 3s (23.8 MB/s)\n",
            "Selecting previously unselected package chromium-codecs-ffmpeg-extra.\n",
            "(Reading database ... 144865 files and directories currently installed.)\n",
            "Preparing to unpack .../chromium-codecs-ffmpeg-extra_87.0.4280.66-0ubuntu0.18.04.1_amd64.deb ...\n",
            "Unpacking chromium-codecs-ffmpeg-extra (87.0.4280.66-0ubuntu0.18.04.1) ...\n",
            "Selecting previously unselected package chromium-browser.\n",
            "Preparing to unpack .../chromium-browser_87.0.4280.66-0ubuntu0.18.04.1_amd64.deb ...\n",
            "Unpacking chromium-browser (87.0.4280.66-0ubuntu0.18.04.1) ...\n",
            "Selecting previously unselected package chromium-browser-l10n.\n",
            "Preparing to unpack .../chromium-browser-l10n_87.0.4280.66-0ubuntu0.18.04.1_all.deb ...\n",
            "Unpacking chromium-browser-l10n (87.0.4280.66-0ubuntu0.18.04.1) ...\n",
            "Selecting previously unselected package chromium-chromedriver.\n",
            "Preparing to unpack .../chromium-chromedriver_87.0.4280.66-0ubuntu0.18.04.1_amd64.deb ...\n",
            "Unpacking chromium-chromedriver (87.0.4280.66-0ubuntu0.18.04.1) ...\n",
            "Setting up chromium-codecs-ffmpeg-extra (87.0.4280.66-0ubuntu0.18.04.1) ...\n",
            "Setting up chromium-browser (87.0.4280.66-0ubuntu0.18.04.1) ...\n",
            "update-alternatives: using /usr/bin/chromium-browser to provide /usr/bin/x-www-browser (x-www-browser) in auto mode\n",
            "update-alternatives: using /usr/bin/chromium-browser to provide /usr/bin/gnome-www-browser (gnome-www-browser) in auto mode\n",
            "Setting up chromium-chromedriver (87.0.4280.66-0ubuntu0.18.04.1) ...\n",
            "Setting up chromium-browser-l10n (87.0.4280.66-0ubuntu0.18.04.1) ...\n",
            "Processing triggers for hicolor-icon-theme (0.17-2) ...\n",
            "Processing triggers for mime-support (3.60ubuntu1) ...\n",
            "Processing triggers for man-db (2.8.3-2ubuntu0.1) ...\n"
          ],
          "name": "stdout"
        }
      ]
    },
    {
      "cell_type": "code",
      "metadata": {
        "colab": {
          "base_uri": "https://localhost:8080/"
        },
        "id": "E5v58DYK2frj",
        "outputId": "812ad844-66d0-43f6-c1ba-41a8565e50c7"
      },
      "source": [
        "from selenium import webdriver\r\n",
        "from selenium.webdriver.support.ui import WebDriverWait\r\n",
        "from selenium.webdriver.support import expected_conditions as EC\r\n",
        "from selenium.webdriver.common.by import By\r\n",
        "from bs4 import BeautifulSoup\r\n",
        "from google.colab import drive\r\n",
        "import time\r\n",
        "drive_dir = '/content/gdrive/'\r\n",
        "drive.mount(drive_dir)"
      ],
      "execution_count": 2,
      "outputs": [
        {
          "output_type": "stream",
          "text": [
            "Mounted at /content/gdrive/\n"
          ],
          "name": "stdout"
        }
      ]
    },
    {
      "cell_type": "markdown",
      "metadata": {
        "id": "h5wUrVPM19g2"
      },
      "source": [
        "# Define Arguments\r\n"
      ]
    },
    {
      "cell_type": "code",
      "metadata": {
        "id": "6TTvOogp1zpR"
      },
      "source": [
        "start_id = 76561197960265728\r\n",
        "start_user = 100000; end_user = 200000; num_user = 0\r\n",
        "base_url = 'http://steamcommunity.com/profiles/'\r\n",
        "\r\n",
        "file_dir = drive_dir + 'My Drive/BigData/results/'\r\n",
        "valid_user_list = open(file_dir +'valid_user_list.txt', 'a', encoding='utf-8')"
      ],
      "execution_count": 5,
      "outputs": []
    },
    {
      "cell_type": "markdown",
      "metadata": {
        "id": "xhETSvfi2kz8"
      },
      "source": [
        "# Crawling"
      ]
    },
    {
      "cell_type": "code",
      "metadata": {
        "id": "cxlTM_PE2nbF"
      },
      "source": [
        "def get_valid_user(user_id, driver):\r\n",
        "    url = base_url + str(user_id) + '/games?tab=all&sort=playtime/'\r\n",
        "    driver.get(url)\r\n",
        "    driver.implicitly_wait(3)\r\n",
        "    html = driver.page_source\r\n",
        "    soup = BeautifulSoup(html, 'html.parser')\r\n",
        "    game_list = soup.select('.gameListRowItem')\r\n",
        "    if len(game_list)>0:\r\n",
        "        \r\n",
        "        return True\r\n",
        "    else:\r\n",
        "        if \"made too many requests recentl\" in html:\r\n",
        "            return True\r\n",
        "    return False"
      ],
      "execution_count": 4,
      "outputs": []
    },
    {
      "cell_type": "code",
      "metadata": {
        "colab": {
          "base_uri": "https://localhost:8080/"
        },
        "id": "fYShJOXv250V",
        "outputId": "8c2424fb-040a-4b5d-afa9-ca7c64f00204"
      },
      "source": [
        "options = webdriver.ChromeOptions()\r\n",
        "options.add_argument('--headless')\r\n",
        "options.add_argument('--no-sandbox')\r\n",
        "options.add_argument('--disable-dev-shm-usage')\r\n",
        "options.add_argument(\"--disable-gpu\")\r\n",
        "driver = webdriver.Chrome('chromedriver', chrome_options=options)\r\n",
        "driver.implicitly_wait(3)\r\n",
        "\r\n",
        "for user_i in range(start_user, end_user):\r\n",
        "    user_id = start_id + start_user + user_i\r\n",
        "    valid = get_valid_user(user_id, driver)\r\n",
        "    if valid :\r\n",
        "        num_user += 1\r\n",
        "        valid_user_list.write(str(user_id)+'\\n')\r\n",
        "    print(user_i, \" processed user \", str(start_id + start_user + user_i), valid, num_user)\r\n",
        "\r\n",
        "valid_user_list.close()"
      ],
      "execution_count": null,
      "outputs": [
        {
          "output_type": "stream",
          "text": [
            "/usr/local/lib/python3.6/dist-packages/ipykernel_launcher.py:6: DeprecationWarning: use options instead of chrome_options\n",
            "  \n"
          ],
          "name": "stderr"
        },
        {
          "output_type": "stream",
          "text": [
            "100000  processed user  76561197960465728 False 0\n",
            "100001  processed user  76561197960465729 False 0\n",
            "100002  processed user  76561197960465730 False 0\n",
            "100003  processed user  76561197960465731 False 0\n",
            "100004  processed user  76561197960465732 False 0\n",
            "100005  processed user  76561197960465733 False 0\n",
            "100006  processed user  76561197960465734 False 0\n",
            "100007  processed user  76561197960465735 False 0\n",
            "100008  processed user  76561197960465736 False 0\n",
            "100009  processed user  76561197960465737 True 1\n",
            "100010  processed user  76561197960465738 False 1\n",
            "100011  processed user  76561197960465739 False 1\n",
            "100012  processed user  76561197960465740 False 1\n",
            "100013  processed user  76561197960465741 False 1\n",
            "100014  processed user  76561197960465742 False 1\n",
            "100015  processed user  76561197960465743 False 1\n",
            "100016  processed user  76561197960465744 False 1\n",
            "100017  processed user  76561197960465745 False 1\n",
            "100018  processed user  76561197960465746 False 1\n",
            "100019  processed user  76561197960465747 False 1\n",
            "100020  processed user  76561197960465748 False 1\n",
            "100021  processed user  76561197960465749 False 1\n",
            "100022  processed user  76561197960465750 False 1\n",
            "100023  processed user  76561197960465751 False 1\n",
            "100024  processed user  76561197960465752 False 1\n",
            "100025  processed user  76561197960465753 False 1\n",
            "100026  processed user  76561197960465754 False 1\n",
            "100027  processed user  76561197960465755 False 1\n",
            "100028  processed user  76561197960465756 False 1\n",
            "100029  processed user  76561197960465757 False 1\n",
            "100030  processed user  76561197960465758 False 1\n",
            "100031  processed user  76561197960465759 False 1\n",
            "100032  processed user  76561197960465760 False 1\n",
            "100033  processed user  76561197960465761 False 1\n",
            "100034  processed user  76561197960465762 False 1\n",
            "100035  processed user  76561197960465763 False 1\n",
            "100036  processed user  76561197960465764 False 1\n",
            "100037  processed user  76561197960465765 False 1\n",
            "100038  processed user  76561197960465766 False 1\n",
            "100039  processed user  76561197960465767 False 1\n",
            "100040  processed user  76561197960465768 False 1\n",
            "100041  processed user  76561197960465769 False 1\n",
            "100042  processed user  76561197960465770 False 1\n",
            "100043  processed user  76561197960465771 False 1\n",
            "100044  processed user  76561197960465772 False 1\n",
            "100045  processed user  76561197960465773 False 1\n",
            "100046  processed user  76561197960465774 False 1\n",
            "100047  processed user  76561197960465775 False 1\n",
            "100048  processed user  76561197960465776 False 1\n",
            "100049  processed user  76561197960465777 False 1\n",
            "100050  processed user  76561197960465778 False 1\n",
            "100051  processed user  76561197960465779 False 1\n",
            "100052  processed user  76561197960465780 False 1\n",
            "100053  processed user  76561197960465781 False 1\n",
            "100054  processed user  76561197960465782 False 1\n",
            "100055  processed user  76561197960465783 False 1\n",
            "100056  processed user  76561197960465784 False 1\n",
            "100057  processed user  76561197960465785 False 1\n",
            "100058  processed user  76561197960465786 False 1\n",
            "100059  processed user  76561197960465787 False 1\n",
            "100060  processed user  76561197960465788 False 1\n",
            "100061  processed user  76561197960465789 False 1\n",
            "100062  processed user  76561197960465790 False 1\n",
            "100063  processed user  76561197960465791 False 1\n",
            "100064  processed user  76561197960465792 False 1\n",
            "100065  processed user  76561197960465793 False 1\n",
            "100066  processed user  76561197960465794 False 1\n",
            "100067  processed user  76561197960465795 True 2\n",
            "100068  processed user  76561197960465796 False 2\n",
            "100069  processed user  76561197960465797 False 2\n",
            "100070  processed user  76561197960465798 False 2\n",
            "100071  processed user  76561197960465799 False 2\n",
            "100072  processed user  76561197960465800 False 2\n",
            "100073  processed user  76561197960465801 False 2\n",
            "100074  processed user  76561197960465802 False 2\n",
            "100075  processed user  76561197960465803 False 2\n",
            "100076  processed user  76561197960465804 True 3\n",
            "100077  processed user  76561197960465805 False 3\n",
            "100078  processed user  76561197960465806 False 3\n",
            "100079  processed user  76561197960465807 False 3\n",
            "100080  processed user  76561197960465808 False 3\n",
            "100081  processed user  76561197960465809 False 3\n",
            "100082  processed user  76561197960465810 False 3\n",
            "100083  processed user  76561197960465811 False 3\n",
            "100084  processed user  76561197960465812 False 3\n",
            "100085  processed user  76561197960465813 False 3\n",
            "100086  processed user  76561197960465814 False 3\n",
            "100087  processed user  76561197960465815 False 3\n",
            "100088  processed user  76561197960465816 False 3\n",
            "100089  processed user  76561197960465817 False 3\n",
            "100090  processed user  76561197960465818 False 3\n",
            "100091  processed user  76561197960465819 False 3\n",
            "100092  processed user  76561197960465820 False 3\n",
            "100093  processed user  76561197960465821 False 3\n",
            "100094  processed user  76561197960465822 False 3\n",
            "100095  processed user  76561197960465823 False 3\n",
            "100096  processed user  76561197960465824 False 3\n",
            "100097  processed user  76561197960465825 True 4\n",
            "100098  processed user  76561197960465826 False 4\n",
            "100099  processed user  76561197960465827 False 4\n",
            "100100  processed user  76561197960465828 False 4\n",
            "100101  processed user  76561197960465829 False 4\n",
            "100102  processed user  76561197960465830 False 4\n",
            "100103  processed user  76561197960465831 False 4\n",
            "100104  processed user  76561197960465832 False 4\n",
            "100105  processed user  76561197960465833 False 4\n",
            "100106  processed user  76561197960465834 False 4\n",
            "100107  processed user  76561197960465835 False 4\n",
            "100108  processed user  76561197960465836 False 4\n",
            "100109  processed user  76561197960465837 False 4\n",
            "100110  processed user  76561197960465838 False 4\n",
            "100111  processed user  76561197960465839 False 4\n",
            "100112  processed user  76561197960465840 False 4\n",
            "100113  processed user  76561197960465841 False 4\n",
            "100114  processed user  76561197960465842 False 4\n",
            "100115  processed user  76561197960465843 False 4\n",
            "100116  processed user  76561197960465844 False 4\n",
            "100117  processed user  76561197960465845 False 4\n",
            "100118  processed user  76561197960465846 False 4\n",
            "100119  processed user  76561197960465847 False 4\n",
            "100120  processed user  76561197960465848 False 4\n",
            "100121  processed user  76561197960465849 False 4\n",
            "100122  processed user  76561197960465850 False 4\n",
            "100123  processed user  76561197960465851 False 4\n",
            "100124  processed user  76561197960465852 False 4\n",
            "100125  processed user  76561197960465853 False 4\n",
            "100126  processed user  76561197960465854 False 4\n",
            "100127  processed user  76561197960465855 False 4\n",
            "100128  processed user  76561197960465856 False 4\n",
            "100129  processed user  76561197960465857 False 4\n",
            "100130  processed user  76561197960465858 False 4\n",
            "100131  processed user  76561197960465859 False 4\n",
            "100132  processed user  76561197960465860 False 4\n",
            "100133  processed user  76561197960465861 False 4\n",
            "100134  processed user  76561197960465862 False 4\n",
            "100135  processed user  76561197960465863 False 4\n",
            "100136  processed user  76561197960465864 False 4\n",
            "100137  processed user  76561197960465865 False 4\n",
            "100138  processed user  76561197960465866 False 4\n",
            "100139  processed user  76561197960465867 False 4\n",
            "100140  processed user  76561197960465868 False 4\n",
            "100141  processed user  76561197960465869 False 4\n",
            "100142  processed user  76561197960465870 True 5\n",
            "100143  processed user  76561197960465871 False 5\n",
            "100144  processed user  76561197960465872 False 5\n",
            "100145  processed user  76561197960465873 False 5\n",
            "100146  processed user  76561197960465874 False 5\n",
            "100147  processed user  76561197960465875 False 5\n",
            "100148  processed user  76561197960465876 False 5\n",
            "100149  processed user  76561197960465877 False 5\n",
            "100150  processed user  76561197960465878 False 5\n",
            "100151  processed user  76561197960465879 False 5\n",
            "100152  processed user  76561197960465880 False 5\n",
            "100153  processed user  76561197960465881 False 5\n",
            "100154  processed user  76561197960465882 False 5\n",
            "100155  processed user  76561197960465883 False 5\n",
            "100156  processed user  76561197960465884 False 5\n",
            "100157  processed user  76561197960465885 False 5\n",
            "100158  processed user  76561197960465886 False 5\n",
            "100159  processed user  76561197960465887 False 5\n",
            "100160  processed user  76561197960465888 False 5\n",
            "100161  processed user  76561197960465889 False 5\n",
            "100162  processed user  76561197960465890 False 5\n",
            "100163  processed user  76561197960465891 False 5\n",
            "100164  processed user  76561197960465892 False 5\n",
            "100165  processed user  76561197960465893 False 5\n",
            "100166  processed user  76561197960465894 False 5\n",
            "100167  processed user  76561197960465895 False 5\n",
            "100168  processed user  76561197960465896 False 5\n",
            "100169  processed user  76561197960465897 False 5\n",
            "100170  processed user  76561197960465898 False 5\n",
            "100171  processed user  76561197960465899 False 5\n",
            "100172  processed user  76561197960465900 False 5\n",
            "100173  processed user  76561197960465901 False 5\n",
            "100174  processed user  76561197960465902 False 5\n",
            "100175  processed user  76561197960465903 False 5\n",
            "100176  processed user  76561197960465904 False 5\n",
            "100177  processed user  76561197960465905 False 5\n",
            "100178  processed user  76561197960465906 False 5\n",
            "100179  processed user  76561197960465907 False 5\n",
            "100180  processed user  76561197960465908 False 5\n"
          ],
          "name": "stdout"
        }
      ]
    }
  ]
}